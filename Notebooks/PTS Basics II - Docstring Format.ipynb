{
 "cells": [
  {
   "cell_type": "markdown",
   "metadata": {},
   "source": [
    "# Python Tutorial Series - Basics II - Docstring Formats\n",
    "\n",
    "This text was originally posted at [StackOverflow](https://stackoverflow.com/questions/3898572/what-is-the-standard-python-docstring-format?utm_medium=organic&utm_source=google_rich_qa&utm_campaign=google_rich_qa)\n",
    "\n",
    "\n",
    "## Epytext\n",
    "\n",
    "Historically a javadoc like style was prevalent, so it was taken as a base for Epydoc (with the called Epytext format) to generate documentation."
   ]
  },
  {
   "cell_type": "code",
   "execution_count": 1,
   "metadata": {
    "collapsed": false
   },
   "outputs": [],
   "source": [
    "def javadoc_style(param1, param2):\n",
    "    \"\"\"\n",
    "    This is a javadoc style.\n",
    "\n",
    "    @param param1: this is a first param\n",
    "    @param param2: this is a second param\n",
    "    @return: this is a description of what is returned\n",
    "    @raise keyError: raises an exception\n",
    "    \"\"\"\n",
    "    return "
   ]
  },
  {
   "cell_type": "code",
   "execution_count": 2,
   "metadata": {
    "collapsed": false
   },
   "outputs": [
    {
     "name": "stdout",
     "output_type": "stream",
     "text": [
      "Help on function javadoc_style in module __main__:\n",
      "\n",
      "javadoc_style(param1, param2)\n",
      "    This is a javadoc style.\n",
      "    \n",
      "    @param param1: this is a first param\n",
      "    @param param2: this is a second param\n",
      "    @return: this is a description of what is returned\n",
      "    @raise keyError: raises an exception\n",
      "\n"
     ]
    }
   ],
   "source": [
    "help(javadoc_style)"
   ]
  },
  {
   "cell_type": "markdown",
   "metadata": {},
   "source": [
    "## reST\n",
    "Nowadays, the probably more prevalent format is the reStructuredText (reST) format that is used by Sphinx to generate documentation. Note: it is used by default in JetBrains PyCharm (type triple quotes after defining a method and hit enter). It is also used by default as output format in Pyment.\n",
    "\n",
    "Example:"
   ]
  },
  {
   "cell_type": "code",
   "execution_count": 3,
   "metadata": {
    "collapsed": true
   },
   "outputs": [],
   "source": [
    "def rest_style(param1, param2):\n",
    "    \"\"\"\n",
    "    This is a reST style.\n",
    "\n",
    "    :param param1: this is a first param\n",
    "    :param param2: this is a second param\n",
    "    :returns: this is a description of what is returned\n",
    "    :raises keyError: raises an exception\n",
    "    \"\"\"\n",
    "    return "
   ]
  },
  {
   "cell_type": "code",
   "execution_count": 4,
   "metadata": {
    "collapsed": false
   },
   "outputs": [
    {
     "name": "stdout",
     "output_type": "stream",
     "text": [
      "Help on function rest_style in module __main__:\n",
      "\n",
      "rest_style(param1, param2)\n",
      "    This is a reST style.\n",
      "    \n",
      "    :param param1: this is a first param\n",
      "    :param param2: this is a second param\n",
      "    :returns: this is a description of what is returned\n",
      "    :raises keyError: raises an exception\n",
      "\n"
     ]
    }
   ],
   "source": [
    "help(rest_style)"
   ]
  },
  {
   "cell_type": "markdown",
   "metadata": {},
   "source": [
    "## Google\n",
    "Google has their own format that is often used. It also can be interpreted by Sphinx.\n",
    "\n",
    "Example:"
   ]
  },
  {
   "cell_type": "code",
   "execution_count": 5,
   "metadata": {
    "collapsed": true
   },
   "outputs": [],
   "source": [
    "def google_style(param1, param2):\n",
    "    \"\"\"\n",
    "    This is an example of Google style.\n",
    "\n",
    "    Args:\n",
    "        param1: This is the first param.\n",
    "        param2: This is a second param.\n",
    "\n",
    "    Returns:\n",
    "        This is a description of what is returned.\n",
    "\n",
    "    Raises:\n",
    "        KeyError: Raises an exception.\n",
    "    \"\"\"\n",
    "    return"
   ]
  },
  {
   "cell_type": "code",
   "execution_count": 6,
   "metadata": {
    "collapsed": false
   },
   "outputs": [
    {
     "name": "stdout",
     "output_type": "stream",
     "text": [
      "Help on function google_style in module __main__:\n",
      "\n",
      "google_style(param1, param2)\n",
      "    This is an example of Google style.\n",
      "    \n",
      "    Args:\n",
      "        param1: This is the first param.\n",
      "        param2: This is a second param.\n",
      "    \n",
      "    Returns:\n",
      "        This is a description of what is returned.\n",
      "    \n",
      "    Raises:\n",
      "        KeyError: Raises an exception.\n",
      "\n"
     ]
    }
   ],
   "source": [
    "help(google_style)"
   ]
  },
  {
   "cell_type": "markdown",
   "metadata": {},
   "source": [
    "## Numpydoc\n",
    "Note that Numpy recommend to follow their own numpydoc based on Google format and usable by Sphinx."
   ]
  },
  {
   "cell_type": "code",
   "execution_count": 7,
   "metadata": {
    "collapsed": true
   },
   "outputs": [],
   "source": [
    "def numpydoc_style(first, second, third):\n",
    "    \"\"\"\n",
    "    My numpydoc description of a kind\n",
    "    of very exhautive numpydoc format docstring.\n",
    "\n",
    "    Parameters\n",
    "    ----------\n",
    "    first : array_like\n",
    "        the 1st param name `first`\n",
    "    second :\n",
    "        the 2nd param\n",
    "    third : {'value', 'other'}, optional\n",
    "        the 3rd param, by default 'value'\n",
    "\n",
    "    Returns\n",
    "    -------\n",
    "    string\n",
    "        a value in a string\n",
    "\n",
    "    Raises\n",
    "    ------\n",
    "    KeyError\n",
    "        when a key error\n",
    "    OtherError\n",
    "        when an other error\n",
    "    \"\"\"\n",
    "    return string"
   ]
  },
  {
   "cell_type": "code",
   "execution_count": 8,
   "metadata": {
    "collapsed": false
   },
   "outputs": [
    {
     "name": "stdout",
     "output_type": "stream",
     "text": [
      "Help on function numpydoc_style in module __main__:\n",
      "\n",
      "numpydoc_style(first, second, third)\n",
      "    My numpydoc description of a kind\n",
      "    of very exhautive numpydoc format docstring.\n",
      "    \n",
      "    Parameters\n",
      "    ----------\n",
      "    first : array_like\n",
      "        the 1st param name `first`\n",
      "    second :\n",
      "        the 2nd param\n",
      "    third : {'value', 'other'}, optional\n",
      "        the 3rd param, by default 'value'\n",
      "    \n",
      "    Returns\n",
      "    -------\n",
      "    string\n",
      "        a value in a string\n",
      "    \n",
      "    Raises\n",
      "    ------\n",
      "    KeyError\n",
      "        when a key error\n",
      "    OtherError\n",
      "        when an other error\n",
      "\n"
     ]
    }
   ],
   "source": [
    "help(numpydoc_style)"
   ]
  }
 ],
 "metadata": {
  "kernelspec": {
   "display_name": "Python 3",
   "language": "python",
   "name": "python3"
  },
  "language_info": {
   "codemirror_mode": {
    "name": "ipython",
    "version": 3
   },
   "file_extension": ".py",
   "mimetype": "text/x-python",
   "name": "python",
   "nbconvert_exporter": "python",
   "pygments_lexer": "ipython3",
   "version": "3.4.3"
  },
  "toc": {
   "nav_menu": {},
   "number_sections": true,
   "sideBar": true,
   "skip_h1_title": false,
   "toc_cell": false,
   "toc_position": {},
   "toc_section_display": "block",
   "toc_window_display": true
  }
 },
 "nbformat": 4,
 "nbformat_minor": 0
}
