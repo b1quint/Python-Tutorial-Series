{
 "cells": [
  {
   "cell_type": "markdown",
   "metadata": {
    "toc": true
   },
   "source": [
    "<h1>Table of Contents<span class=\"tocSkip\"></span></h1>\n",
    "<div class=\"toc\"><ul class=\"toc-item\"><li><span><a href=\"#MatPlotLib-and-Image-Display\" data-toc-modified-id=\"MatPlotLib-and-Image-Display-1\"><span class=\"toc-item-num\">1&nbsp;&nbsp;</span>MatPlotLib and Image Display</a></span><ul class=\"toc-item\"><li><span><a href=\"#Using-imshow\" data-toc-modified-id=\"Using-imshow-1.1\"><span class=\"toc-item-num\">1.1&nbsp;&nbsp;</span>Using <code>imshow</code></a></span></li></ul></li><li><span><a href=\"#SciPy\" data-toc-modified-id=\"SciPy-2\"><span class=\"toc-item-num\">2&nbsp;&nbsp;</span>SciPy</a></span></li></ul></div>"
   ]
  },
  {
   "cell_type": "markdown",
   "metadata": {
    "slideshow": {
     "slide_type": "slide"
    }
   },
   "source": [
    "# PTS2019 - Data Analysis and Visualization 2"
   ]
  },
  {
   "cell_type": "markdown",
   "metadata": {
    "slideshow": {
     "slide_type": "slide"
    }
   },
   "source": [
    "This notebook is part of the Python Tutorial Series presented in the Gemini Observatory. "
   ]
  },
  {
   "cell_type": "markdown",
   "metadata": {},
   "source": [
    "## MatPlotLib and Image Display"
   ]
  },
  {
   "cell_type": "markdown",
   "metadata": {},
   "source": [
    "### Using `imshow`"
   ]
  },
  {
   "cell_type": "code",
   "execution_count": 39,
   "metadata": {},
   "outputs": [
    {
     "data": {
      "image/png": "[encoded data removed]",
      "text/plain": [
       "<Figure size 432x288 with 1 Axes>"
      ]
     },
     "metadata": {
      "needs_background": "light"
     },
     "output_type": "display_data"
    }
   ],
   "source": [
    "%matplotlib inline\n",
    "import numpy as np\n",
    "\n",
    "from matplotlib import pyplot as plt\n",
    "\n",
    "data = np.random.uniform(size=(5, 5))\n",
    "\n",
    "fig, ax = plt.subplots(num='A simple array with random values')\n",
    "\n",
    "ax.imshow(data)\n",
    "\n",
    "plt.show()"
   ]
  },
  {
   "cell_type": "markdown",
   "metadata": {},
   "source": [
    "## SciPy\n",
    "\n",
    "| Subpackage | Description |\n",
    "| --- | --- |\n",
    "| [cluster] | Clustering algorithms |\n",
    "| constants | Physical and mathematical constants |\n",
    "| fftpack | Fast Fourier Transform routines |\n",
    "| integrate | Integration and ordinary differential equation solvers |\n",
    "| interpolate | Interpolation and smoothing splines |\n",
    "| io | Input and Output |\n",
    "| linalg | Linear algebra |\n",
    "| ndimage | N-dimensional image processing |\n",
    "| odr | Orthogonal distance regression |\n",
    "| optimize | Optimization and root-finding routines |\n",
    "| signal | Signal processing |\n",
    "| sparse | Sparse matrices and associated routines |\n",
    "| spatial | Spatial data structures and algorithms |\n",
    "| special | Special functions |\n",
    "| stats | Statistical distributions and functions|\n",
    "\n",
    "[cluster]: https://joernhees.de/blog/2015/08/26/scipy-hierarchical-clustering-and-dendrogram-tutorial/"
   ]
  },
  {
   "cell_type": "code",
   "execution_count": null,
   "metadata": {},
   "outputs": [],
   "source": []
  }
 ],
 "metadata": {
  "kernelspec": {
   "display_name": "Python 3",
   "language": "python",
   "name": "python3"
  },
  "language_info": {
   "codemirror_mode": {
    "name": "ipython",
    "version": 3
   },
   "file_extension": ".py",
   "mimetype": "text/x-python",
   "name": "python",
   "nbconvert_exporter": "python",
   "pygments_lexer": "ipython3",
   "version": "3.6.8"
  },
  "toc": {
   "base_numbering": 1,
   "nav_menu": {},
   "number_sections": true,
   "sideBar": true,
   "skip_h1_title": true,
   "title_cell": "Table of Contents",
   "title_sidebar": "Contents",
   "toc_cell": true,
   "toc_position": {},
   "toc_section_display": true,
   "toc_window_display": true
  }
 },
 "nbformat": 4,
 "nbformat_minor": 2
}
